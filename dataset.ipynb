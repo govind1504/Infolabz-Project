{
 "cells": [
  {
   "cell_type": "code",
   "execution_count": 36,
   "metadata": {},
   "outputs": [],
   "source": [
    "import pandas as pd\n",
    "import numpy as np\n"
   ]
  },
  {
   "cell_type": "code",
   "execution_count": 37,
   "metadata": {},
   "outputs": [
    {
     "name": "stderr",
     "output_type": "stream",
     "text": [
      "C:\\Users\\govin\\AppData\\Local\\Temp\\ipykernel_16304\\3399424726.py:3: ParserWarning: Skipping line 91: expected 10 fields, saw 11\n",
      "Skipping line 159: expected 10 fields, saw 11\n",
      "Skipping line 201: expected 10 fields, saw 11\n",
      "\n",
      "  val_df = pd.read_csv(\"val.csv\" , on_bad_lines='warn')\n"
     ]
    }
   ],
   "source": [
    "train_df = pd.read_csv(\"train.csv\")\n",
    "test_df = pd.read_csv(\"test.csv\")\n",
    "val_df = pd.read_csv(\"val.csv\" , on_bad_lines='warn')\n"
   ]
  },
  {
   "cell_type": "code",
   "execution_count": 38,
   "metadata": {},
   "outputs": [
    {
     "name": "stdout",
     "output_type": "stream",
     "text": [
      "<class 'pandas.core.frame.DataFrame'>\n",
      "RangeIndex: 1001 entries, 0 to 1000\n",
      "Data columns (total 10 columns):\n",
      " #   Column                      Non-Null Count  Dtype  \n",
      "---  ------                      --------------  -----  \n",
      " 0   User_ID                     1001 non-null   object \n",
      " 1   Age                         1001 non-null   object \n",
      " 2   Gender                      1000 non-null   object \n",
      " 3   Platform                    1000 non-null   object \n",
      " 4   Daily_Usage_Time (minutes)  1000 non-null   float64\n",
      " 5   Posts_Per_Day               1000 non-null   float64\n",
      " 6   Likes_Received_Per_Day      1000 non-null   float64\n",
      " 7   Comments_Received_Per_Day   1000 non-null   float64\n",
      " 8   Messages_Sent_Per_Day       1000 non-null   float64\n",
      " 9   Dominant_Emotion            1000 non-null   object \n",
      "dtypes: float64(5), object(5)\n",
      "memory usage: 78.3+ KB\n"
     ]
    }
   ],
   "source": [
    "train_df.info()"
   ]
  },
  {
   "cell_type": "code",
   "execution_count": 39,
   "metadata": {},
   "outputs": [
    {
     "name": "stdout",
     "output_type": "stream",
     "text": [
      "for User_ID = ['1' '2' '3' ... '998' '999' '1000']\n",
      "for Age = ['25' '30' '22' '28' '33' '21' '27' '24' '29' '31' '23' '26' '34' '35'\n",
      " '32' 'Male' 'Female' 'Non-binary'\n",
      " ' işte mevcut veri kümesini 1000 satıra tamamlıyorum:']\n",
      "for Gender = ['Female' 'Male' 'Non-binary' '27' '24' '29' '33' '31' '22' '25' '28' '30'\n",
      " '23' '34' '26' '35' '21' '32' nan]\n",
      "for Platform = ['Instagram' 'Twitter' 'Facebook' 'LinkedIn' 'Whatsapp' 'Telegram'\n",
      " 'Snapchat' nan]\n",
      "for Daily_Usage_Time (minutes) = [120.  90.  60. 200.  45. 150.  85. 110.  55. 170.  75.  95.  65. 180.\n",
      " 100.  40. 125.  50. 140. 105. 190.  70.  80. 160. 145. 130. 115. 175.\n",
      " 165. 155.  nan]\n",
      "for Posts_Per_Day = [ 3.  5.  2.  8.  1.  4.  6.  7. nan]\n",
      "for Likes_Received_Per_Day = [ 45.  20.  15. 100.   5.  60.  30.  25.  10.  80.  35.  12.  90.  40.\n",
      "  55.  33.   8.  70.  28.  11.  95.  18.   9.  85.  38.   6.  13.  75.\n",
      "  27.  88.  22.  78.  29.  50.  36.  72.  65. 110.  14.  17. 105.  43.\n",
      "  37.  42.  48.  21.  24.  23.  83.  nan]\n",
      "for Comments_Received_Per_Day = [10. 25.  5. 30.  2. 15. 12.  3. 20.  7.  4. 23. 18. 22. 14. 26.  8. 19.\n",
      " 17. 11.  6.  9. 13. 40. 16. 35. 38. 28. 36. 33. nan]\n",
      "for Messages_Sent_Per_Day = [12. 30. 20. 50. 10. 25. 18. 22.  8. 35. 15. 40. 28. 33. 17. 45. 21. 11.\n",
      " 32. 24. 14.  9. 38. 31. 27. 19. 26. 29. 23. nan]\n",
      "for Dominant_Emotion = ['Happiness' 'Anger' 'Neutral' 'Anxiety' 'Boredom' 'Sadness' nan]\n"
     ]
    }
   ],
   "source": [
    "for i in train_df.columns:\n",
    "    print(f\"for {i} = {train_df[i].unique()}\")"
   ]
  },
  {
   "cell_type": "code",
   "execution_count": 40,
   "metadata": {},
   "outputs": [],
   "source": [
    "train_df = train_df[train_df['Gender'].isin(['Male' , 'Female' , 'Non-binary'])]"
   ]
  },
  {
   "cell_type": "code",
   "execution_count": 41,
   "metadata": {},
   "outputs": [
    {
     "data": {
      "text/plain": [
       "np.int64(924)"
      ]
     },
     "execution_count": 41,
     "metadata": {},
     "output_type": "execute_result"
    }
   ],
   "source": [
    "train_df['Gender'].count()"
   ]
  },
  {
   "cell_type": "code",
   "execution_count": 42,
   "metadata": {},
   "outputs": [
    {
     "data": {
      "text/plain": [
       "array(['25', '30', '22', '28', '33', '21', '27', '24', '29', '31', '23',\n",
       "       '26', '34', '35', '32'], dtype=object)"
      ]
     },
     "execution_count": 42,
     "metadata": {},
     "output_type": "execute_result"
    }
   ],
   "source": [
    "train_df = train_df[~train_df['Age'].isin(['Male' , 'Female' , 'Non-binary' , ' işte mevcut veri kümesini 1000 satıra tamamlıyorum:'])]\n",
    "train_df['Age'].unique()"
   ]
  },
  {
   "cell_type": "code",
   "execution_count": 43,
   "metadata": {},
   "outputs": [
    {
     "name": "stdout",
     "output_type": "stream",
     "text": [
      "<class 'pandas.core.frame.DataFrame'>\n",
      "Index: 924 entries, 0 to 1000\n",
      "Data columns (total 10 columns):\n",
      " #   Column                      Non-Null Count  Dtype  \n",
      "---  ------                      --------------  -----  \n",
      " 0   User_ID                     924 non-null    object \n",
      " 1   Age                         924 non-null    object \n",
      " 2   Gender                      924 non-null    object \n",
      " 3   Platform                    924 non-null    object \n",
      " 4   Daily_Usage_Time (minutes)  924 non-null    float64\n",
      " 5   Posts_Per_Day               924 non-null    float64\n",
      " 6   Likes_Received_Per_Day      924 non-null    float64\n",
      " 7   Comments_Received_Per_Day   924 non-null    float64\n",
      " 8   Messages_Sent_Per_Day       924 non-null    float64\n",
      " 9   Dominant_Emotion            924 non-null    object \n",
      "dtypes: float64(5), object(5)\n",
      "memory usage: 79.4+ KB\n"
     ]
    }
   ],
   "source": [
    "train_df.info()"
   ]
  },
  {
   "cell_type": "code",
   "execution_count": 44,
   "metadata": {},
   "outputs": [
    {
     "name": "stdout",
     "output_type": "stream",
     "text": [
      "for User_ID = [500 488 776 869 573 428 528 773 382 505  20 444 720 328 372 555 181 413\n",
      " 132 743 526 962 497 275 836  35 760 700  58 481 847 850 487 820 932 599\n",
      " 627 212 872 155 830 174 119 490 594 651 713 801 319 783 376 562 693  76\n",
      " 169 900 986 807 815 227  60 866 944 711 211  33 348 846 672 223 926  81\n",
      " 997 561  48 849 621 261  16 170 653 422 378 304 149 290 759 205 719 666\n",
      " 476 278 821 418 184 896 708 993]\n",
      "for Age = ['27' '21' '28' '25' '24' '33' '32' '23' '35' '31' '34' '29' '22' '26'\n",
      " '30' 'Male']\n",
      "for Gender = ['Female' 'Non-binary' 'Male' '27' 'Marie']\n",
      "for Platform = ['Snapchat' 'Telegram' 'Facebook' 'Instagram' 'LinkedIn' 'Twitter'\n",
      " 'Whatsapp']\n",
      "for Daily_Usage_Time (minutes) = [120  60 115 105  55 160  85  45 140  70  50  65 145  95  80  90 165  75\n",
      " 100 175 130  40 200 110]\n",
      "for Posts_Per_Day = [4 1 3 6 5 2 7 8]\n",
      "for Likes_Received_Per_Day = [ 40  18  38  48  17  85  33  10  70  25  75  13  15  20  14  50  22  30\n",
      "  11  12  37  45  80   8  24  23  60  28   9  27 100  72   5  21  35 110]\n",
      "for Comments_Received_Per_Day = [18  7 20 26  5 22 12 28  8 10  6 13 14 30  4 25 16 15 11  2 33  9 40 19\n",
      " 23]\n",
      "for Messages_Sent_Per_Day = [22 12 27 28 30 18 33 10 17 15 35 20 25 11 26 29 38 31 21 23 45 24]\n",
      "for Dominant_Emotion = ['Neutral' 'Anxiety' 'Happiness' 'Boredom' 'Sadness' 'Anger']\n"
     ]
    }
   ],
   "source": [
    "for i in test_df.columns:\n",
    "    print(f\"for {i} = {test_df[i].unique()}\")"
   ]
  },
  {
   "cell_type": "code",
   "execution_count": 45,
   "metadata": {},
   "outputs": [],
   "source": [
    "test_df = test_df[test_df['Gender'].isin(['Male','Female','Non-binary'])]"
   ]
  },
  {
   "cell_type": "code",
   "execution_count": 46,
   "metadata": {},
   "outputs": [
    {
     "name": "stdout",
     "output_type": "stream",
     "text": [
      "for User_ID = [ 10 877 230 876 376 676 872  28 100 381 465 371  54 752  23 754 592 159\n",
      " 388 128 826 495 211   5 115 750 185 810 160 978 745 896 611 416 763 200\n",
      " 733 778 541 909 633 424 463  64 466  20 719 370 911 429 142 612 537 771\n",
      " 683 372  30 913 352 129 590 241 865  13 511 613 631 675 524 105 622  69\n",
      " 321 343 141 119 303 419 508 233 803 832  27 346 514 715 337 917 641 504\n",
      " 756 473 986 191 401 481 472 907 240 985 812 579 227 973 847 623 776 721\n",
      " 222 509 476 293 248 347 718 297 942 816 427 103 512 963 391 882  88 714\n",
      " 277 830 109  99 493]\n",
      "for Age = ['31' '32' '26' '28' '35' '25' '27' '24' '33' 'Female' '29' '21' '23' '34'\n",
      " '22' 'Male' 'Non-binary']\n",
      "for Gender = ['Male' 'Female' 'Non-binary' '24' '33' '34' '28' '22' '26' 'Facebook']\n",
      "for Platform = ['Instagram' 'Facebook' 'Snapchat' 'Twitter' 'Telegram' 'LinkedIn'\n",
      " 'Whatsapp' '55']\n",
      "for Daily_Usage_Time (minutes) = [170 155  45 115  70 160 120  50  90 140 145  75  60 105  95  80 150 100\n",
      " 165  85  40 130  55 190 110  65  72  52  30   1 180 125 200]\n",
      "for Posts_Per_Day = [ 5  6  1  3  4  2  7  8 10  9]\n",
      "for Likes_Received_Per_Day = [ 80  75   8  38  13  85  20  42  65  60  33  11  55  48  18  70  45   5\n",
      "  50  90  12  23  15  35  10  21  40   7  88 105  27  49  82  29  43  32\n",
      "  30  25  39   9   2 100  95 110  17  22  37  28  14]\n",
      "for Comments_Received_Per_Day = [20 25  4 18  8 19 13 10 14 22  5 23  7 26  2 30 35 12  9 21  6 15 11 16\n",
      " 36 38 40]\n",
      "for Messages_Sent_Per_Day = ['35' '38' '12' '27' '10' '32' '22' '26' '30' '19' '17' '25' '20' '29'\n",
      " '28' '40' '15' '18' '14' '21' '45' '13' '34' '31' '23' '11' 'Anxiety'\n",
      " '50' '24' '39']\n",
      "for Dominant_Emotion = ['Happiness' 'Sadness' 'Anxiety' 'Boredom' 'Neutral' 'Anger' 'Agression'\n",
      " nan]\n"
     ]
    }
   ],
   "source": [
    "for i in val_df.columns:\n",
    "    print(f\"for {i} = {val_df[i].unique()}\")"
   ]
  },
  {
   "cell_type": "code",
   "execution_count": 47,
   "metadata": {},
   "outputs": [],
   "source": [
    "val_df = val_df[~val_df['Age'].isin(['Female' , 'Male' ,'Non-binary']) \n",
    "                  & val_df['Gender'].isin(['Female' , 'Male' ,'Non-binary']) \n",
    "                  & ~val_df['Platform'].isin(['55'])]\n"
   ]
  },
  {
   "cell_type": "code",
   "execution_count": 48,
   "metadata": {},
   "outputs": [],
   "source": [
    "required_features = [\"User_ID\",'Age','Gender','Platform','Daily_Usage_Time (minutes)','Posts_Per_Day']\n",
    "train_df = train_df[required_features]\n",
    "test_df = test_df[required_features]\n",
    "val_df = val_df[required_features]"
   ]
  },
  {
   "cell_type": "code",
   "execution_count": 49,
   "metadata": {},
   "outputs": [
    {
     "name": "stdout",
     "output_type": "stream",
     "text": [
      "<class 'pandas.core.frame.DataFrame'>\n",
      "Index: 924 entries, 0 to 1000\n",
      "Data columns (total 6 columns):\n",
      " #   Column                      Non-Null Count  Dtype  \n",
      "---  ------                      --------------  -----  \n",
      " 0   User_ID                     924 non-null    object \n",
      " 1   Age                         924 non-null    object \n",
      " 2   Gender                      924 non-null    object \n",
      " 3   Platform                    924 non-null    object \n",
      " 4   Daily_Usage_Time (minutes)  924 non-null    float64\n",
      " 5   Posts_Per_Day               924 non-null    float64\n",
      "dtypes: float64(2), object(4)\n",
      "memory usage: 50.5+ KB\n"
     ]
    }
   ],
   "source": [
    "train_df.info()"
   ]
  },
  {
   "cell_type": "code",
   "execution_count": 50,
   "metadata": {},
   "outputs": [
    {
     "name": "stdout",
     "output_type": "stream",
     "text": [
      "<class 'pandas.core.frame.DataFrame'>\n",
      "Index: 101 entries, 0 to 102\n",
      "Data columns (total 6 columns):\n",
      " #   Column                      Non-Null Count  Dtype \n",
      "---  ------                      --------------  ----- \n",
      " 0   User_ID                     101 non-null    int64 \n",
      " 1   Age                         101 non-null    object\n",
      " 2   Gender                      101 non-null    object\n",
      " 3   Platform                    101 non-null    object\n",
      " 4   Daily_Usage_Time (minutes)  101 non-null    int64 \n",
      " 5   Posts_Per_Day               101 non-null    int64 \n",
      "dtypes: int64(3), object(3)\n",
      "memory usage: 5.5+ KB\n"
     ]
    }
   ],
   "source": [
    "test_df.info()"
   ]
  },
  {
   "cell_type": "code",
   "execution_count": 51,
   "metadata": {},
   "outputs": [
    {
     "name": "stdout",
     "output_type": "stream",
     "text": [
      "<class 'pandas.core.frame.DataFrame'>\n",
      "Index: 132 entries, 0 to 144\n",
      "Data columns (total 6 columns):\n",
      " #   Column                      Non-Null Count  Dtype \n",
      "---  ------                      --------------  ----- \n",
      " 0   User_ID                     132 non-null    int64 \n",
      " 1   Age                         132 non-null    object\n",
      " 2   Gender                      132 non-null    object\n",
      " 3   Platform                    132 non-null    object\n",
      " 4   Daily_Usage_Time (minutes)  132 non-null    int64 \n",
      " 5   Posts_Per_Day               132 non-null    int64 \n",
      "dtypes: int64(3), object(3)\n",
      "memory usage: 7.2+ KB\n"
     ]
    }
   ],
   "source": [
    "val_df.info()"
   ]
  },
  {
   "cell_type": "code",
   "execution_count": 52,
   "metadata": {},
   "outputs": [],
   "source": [
    "conver_dtypes_dict = {'User_ID':int,\"Daily_Usage_Time (minutes)\":int,\"Posts_Per_Day\":int}\n",
    "train_df = train_df.astype(conver_dtypes_dict)"
   ]
  },
  {
   "cell_type": "code",
   "execution_count": 60,
   "metadata": {},
   "outputs": [
    {
     "data": {
      "text/plain": [
       "np.int64(220)"
      ]
     },
     "execution_count": 60,
     "metadata": {},
     "output_type": "execute_result"
    }
   ],
   "source": [
    "df = pd.concat([train_df , test_df , val_df] ,ignore_index=True)\n",
    "df['User_ID'].duplicated().sum()"
   ]
  },
  {
   "cell_type": "code",
   "execution_count": null,
   "metadata": {},
   "outputs": [],
   "source": []
  },
  {
   "cell_type": "code",
   "execution_count": 66,
   "metadata": {},
   "outputs": [],
   "source": [
    "df=df.sort_values(\"User_ID\" , ignore_index= True)"
   ]
  },
  {
   "cell_type": "code",
   "execution_count": 67,
   "metadata": {},
   "outputs": [],
   "source": [
    "df.to_csv(\"Social_Media.csv\")"
   ]
  },
  {
   "cell_type": "code",
   "execution_count": 70,
   "metadata": {},
   "outputs": [
    {
     "data": {
      "text/plain": [
       "0     25\n",
       "1     30\n",
       "2     22\n",
       "3     28\n",
       "4     33\n",
       "5     33\n",
       "6     21\n",
       "7     27\n",
       "8     24\n",
       "9     29\n",
       "10    31\n",
       "11    31\n",
       "12    23\n",
       "13    26\n",
       "14    34\n",
       "16    28\n",
       "17    21\n",
       "18    21\n",
       "20    27\n",
       "21    23\n",
       "36    26\n",
       "67    22\n",
       "68    25\n",
       "69    29\n",
       "70    29\n",
       "76    23\n",
       "77    34\n",
       "78    26\n",
       "79    26\n",
       "83    31\n",
       "84    27\n",
       "85    27\n",
       "86    22\n",
       "90    29\n",
       "91    25\n",
       "Name: Age, dtype: object"
      ]
     },
     "execution_count": 70,
     "metadata": {},
     "output_type": "execute_result"
    }
   ],
   "source": [
    "Instagram_df = df.groupby(\"Platform\")['Age']\n",
    "Instagram_df.head()"
   ]
  },
  {
   "cell_type": "code",
   "execution_count": null,
   "metadata": {},
   "outputs": [],
   "source": []
  }
 ],
 "metadata": {
  "kernelspec": {
   "display_name": ".venv",
   "language": "python",
   "name": "python3"
  },
  "language_info": {
   "codemirror_mode": {
    "name": "ipython",
    "version": 3
   },
   "file_extension": ".py",
   "mimetype": "text/x-python",
   "name": "python",
   "nbconvert_exporter": "python",
   "pygments_lexer": "ipython3",
   "version": "3.11.5"
  }
 },
 "nbformat": 4,
 "nbformat_minor": 2
}
